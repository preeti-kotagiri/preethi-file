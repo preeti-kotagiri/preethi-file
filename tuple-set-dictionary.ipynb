{
 "cells": [
  {
   "cell_type": "markdown",
   "metadata": {},
   "source": [
    "### Tuple : tuple is a collection of elements of different type enclosed with () and allows duplicate values and tuples are immutable."
   ]
  },
  {
   "cell_type": "code",
   "execution_count": 2,
   "metadata": {},
   "outputs": [
    {
     "name": "stdout",
     "output_type": "stream",
     "text": [
      "(1, 2, 3)\n"
     ]
    }
   ],
   "source": [
    "tup1 = (1,2,3)\n",
    "print(tup1)"
   ]
  },
  {
   "cell_type": "code",
   "execution_count": 3,
   "metadata": {},
   "outputs": [
    {
     "data": {
      "text/plain": [
       "(1, 2, 3, 4, 5, 6)"
      ]
     },
     "execution_count": 3,
     "metadata": {},
     "output_type": "execute_result"
    }
   ],
   "source": [
    "tup2 = (4,5,6)\n",
    "tup1+tup2"
   ]
  },
  {
   "cell_type": "code",
   "execution_count": 4,
   "metadata": {},
   "outputs": [
    {
     "data": {
      "text/plain": [
       "(1, 2, 3)"
      ]
     },
     "execution_count": 4,
     "metadata": {},
     "output_type": "execute_result"
    }
   ],
   "source": [
    "tup1"
   ]
  },
  {
   "cell_type": "code",
   "execution_count": 5,
   "metadata": {},
   "outputs": [
    {
     "data": {
      "text/plain": [
       "(4, 5, 6)"
      ]
     },
     "execution_count": 5,
     "metadata": {},
     "output_type": "execute_result"
    }
   ],
   "source": [
    "tup2"
   ]
  },
  {
   "cell_type": "code",
   "execution_count": 7,
   "metadata": {},
   "outputs": [
    {
     "data": {
      "text/plain": [
       "1"
      ]
     },
     "execution_count": 7,
     "metadata": {},
     "output_type": "execute_result"
    }
   ],
   "source": [
    "tup2.index(5)"
   ]
  },
  {
   "cell_type": "code",
   "execution_count": 8,
   "metadata": {},
   "outputs": [
    {
     "data": {
      "text/plain": [
       "1"
      ]
     },
     "execution_count": 8,
     "metadata": {},
     "output_type": "execute_result"
    }
   ],
   "source": [
    "tup2.count(5)"
   ]
  },
  {
   "cell_type": "markdown",
   "metadata": {},
   "source": [
    "### set: sets are mutable,unindexed,unordered and does not allow duplicate values.sets are created using {}"
   ]
  },
  {
   "cell_type": "code",
   "execution_count": 9,
   "metadata": {},
   "outputs": [
    {
     "ename": "TypeError",
     "evalue": "'set' object is not subscriptable",
     "output_type": "error",
     "traceback": [
      "\u001b[1;31m---------------------------------------------------------------------------\u001b[0m",
      "\u001b[1;31mTypeError\u001b[0m                                 Traceback (most recent call last)",
      "\u001b[1;32m<ipython-input-9-09a0668408de>\u001b[0m in \u001b[0;36m<module>\u001b[1;34m\u001b[0m\n\u001b[0;32m      1\u001b[0m \u001b[0mset1\u001b[0m \u001b[1;33m=\u001b[0m \u001b[1;33m{\u001b[0m\u001b[1;36m1\u001b[0m\u001b[1;33m,\u001b[0m\u001b[1;36m2\u001b[0m\u001b[1;33m,\u001b[0m\u001b[1;36m4\u001b[0m\u001b[1;33m}\u001b[0m\u001b[1;33m\u001b[0m\u001b[1;33m\u001b[0m\u001b[0m\n\u001b[1;32m----> 2\u001b[1;33m \u001b[0mset1\u001b[0m\u001b[1;33m[\u001b[0m\u001b[1;36m3\u001b[0m\u001b[1;33m]\u001b[0m\u001b[1;33m\u001b[0m\u001b[1;33m\u001b[0m\u001b[0m\n\u001b[0m",
      "\u001b[1;31mTypeError\u001b[0m: 'set' object is not subscriptable"
     ]
    }
   ],
   "source": [
    "set1 = {1,2,4}\n",
    "set1[3]"
   ]
  },
  {
   "cell_type": "code",
   "execution_count": 2,
   "metadata": {},
   "outputs": [
    {
     "name": "stdout",
     "output_type": "stream",
     "text": [
      "{1, 2, 3, 4, 5}\n"
     ]
    }
   ],
   "source": [
    "set2 = {1,2,2,3,4,4,5}\n",
    "print(set2)"
   ]
  },
  {
   "cell_type": "code",
   "execution_count": 3,
   "metadata": {},
   "outputs": [
    {
     "name": "stdout",
     "output_type": "stream",
     "text": [
      "set before adding elements: {1, 2, 3}\n",
      "set after adding elements: {1, 2, 3, 4, 5}\n"
     ]
    }
   ],
   "source": [
    "#adding elements into a set\n",
    "set1 = {1,2,3}\n",
    "print(\"set before adding elements:\",set1)\n",
    "set1.add(4)\n",
    "set1.add(5)\n",
    "print(\"set after adding elements:\",set1)"
   ]
  },
  {
   "cell_type": "code",
   "execution_count": 13,
   "metadata": {},
   "outputs": [
    {
     "name": "stdout",
     "output_type": "stream",
     "text": [
      "given set is: {1, 2, 3, 4, 5, 6}\n",
      "set after removing elements using pop: {2, 3, 4, 5, 6}\n",
      "set after removing elements using remove {2, 3, 4, 6}\n",
      "set after removing elements using discard: {2, 3, 4, 6}\n"
     ]
    }
   ],
   "source": [
    "#removing elements from set\n",
    "set1 = {1,2,3,4,5,5,6}\n",
    "print(\"given set is:\",set1)\n",
    "set1.pop()\n",
    "print(\"set after removing elements using pop:\",set1)\n",
    "set1.remove(5)\n",
    "print(\"set after removing elements using remove\",set1)\n",
    "#set1.remove(5) This statement returns an error if element is not the member of set\n",
    "set1.discard(5) #This statement does not returns an error if element is not the member of set\n",
    "print(\"set after removing elements using discard:\",set1)"
   ]
  },
  {
   "cell_type": "code",
   "execution_count": 19,
   "metadata": {},
   "outputs": [
    {
     "name": "stdout",
     "output_type": "stream",
     "text": [
      "{4}\n",
      "{1, 2, 3, 4, 5, 6, 7}\n",
      "{1, 2, 3}\n",
      "False\n",
      "False\n",
      "False\n"
     ]
    }
   ],
   "source": [
    "#Basic operations on set\n",
    "set1 = {1,2,3,4}\n",
    "set2 = {4,5,6,7}\n",
    "print(set1.intersection(set2)) #intersection of two sets\n",
    "print(set1.union(set2)) #union of two sets\n",
    "print(set1.difference(set2)) #it will return set1-set2\n",
    "print(set1.issubset(set2))\n",
    "print(set1.issuperset(set2))\n",
    "print(set1.isdisjoint(set2))"
   ]
  },
  {
   "cell_type": "markdown",
   "metadata": {},
   "source": [
    "### Dictionary:\n",
    "### syntax : dict1 = {key1 : value1,key2 : value2,.....} key-value pair is known as an entry"
   ]
  },
  {
   "cell_type": "code",
   "execution_count": 20,
   "metadata": {},
   "outputs": [
    {
     "name": "stdout",
     "output_type": "stream",
     "text": [
      "preeti\n",
      "25\n"
     ]
    }
   ],
   "source": [
    "dict1 = {\"name\":\"preeti\",\"age\":25}\n",
    "print(dict1[\"name\"])\n",
    "print(dict1[\"age\"])"
   ]
  },
  {
   "cell_type": "code",
   "execution_count": 22,
   "metadata": {},
   "outputs": [
    {
     "name": "stdout",
     "output_type": "stream",
     "text": [
      "original dictionary: {'name': 'preeti', 'age': 25}\n",
      "dictionary after adding key: {'name': 'preeti', 'age': 25, 'course': 'python'}\n"
     ]
    }
   ],
   "source": [
    "#adding a new entry\n",
    "dict1 = {\"name\":\"preeti\",\"age\":25}\n",
    "print(\"original dictionary:\",dict1)\n",
    "dict1[\"course\"] = \"python\"\n",
    "print(\"dictionary after adding key:\",dict1)"
   ]
  },
  {
   "cell_type": "code",
   "execution_count": 24,
   "metadata": {},
   "outputs": [
    {
     "name": "stdout",
     "output_type": "stream",
     "text": [
      "{'name': 'preeti'}\n"
     ]
    }
   ],
   "source": [
    "#remove an entry\n",
    "dict1 = {\"name\":\"preeti\",\"age\":25}\n",
    "del dict1[\"age\"]\n",
    "print(dict1)"
   ]
  },
  {
   "cell_type": "code",
   "execution_count": 27,
   "metadata": {},
   "outputs": [
    {
     "name": "stdout",
     "output_type": "stream",
     "text": [
      "name is preeti\n",
      "age is 25\n",
      "course is python\n"
     ]
    }
   ],
   "source": [
    "dict1 = {'name': 'preeti', 'age': 25, 'course': 'python'}\n",
    "for i in dict1:\n",
    "    print(i,\"is\",dict1[i])"
   ]
  },
  {
   "cell_type": "code",
   "execution_count": null,
   "metadata": {},
   "outputs": [],
   "source": []
  }
 ],
 "metadata": {
  "kernelspec": {
   "display_name": "Python 3",
   "language": "python",
   "name": "python3"
  },
  "language_info": {
   "codemirror_mode": {
    "name": "ipython",
    "version": 3
   },
   "file_extension": ".py",
   "mimetype": "text/x-python",
   "name": "python",
   "nbconvert_exporter": "python",
   "pygments_lexer": "ipython3",
   "version": "3.7.3"
  }
 },
 "nbformat": 4,
 "nbformat_minor": 2
}
