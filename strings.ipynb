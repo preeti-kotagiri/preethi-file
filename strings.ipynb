{
 "cells": [
  {
   "cell_type": "markdown",
   "metadata": {},
   "source": [
    "### Strings : built-in methods:\n",
    "1. capitalize()\n",
    "2. casefold()\n",
    "3. center(width, fillchar=' ')\n",
    "4. count(sub,start,end)\n",
    "5. index()\n",
    "6. isalnum()\n",
    "7. isalpha()\n",
    "8. isdigit()\n",
    "9. islower()\n",
    "10. isupper()\n",
    "11. lower()\n",
    "12. upper()\n",
    "13. swapcase()\n",
    "14. replace(old,new,count)\n",
    "15. split()\n"
   ]
  },
  {
   "cell_type": "code",
   "execution_count": 4,
   "metadata": {},
   "outputs": [
    {
     "name": "stdout",
     "output_type": "stream",
     "text": [
      "Abcabc123\n",
      "*****abcAbc123******\n",
      "1\n",
      "3\n",
      "True\n",
      "False\n"
     ]
    }
   ],
   "source": [
    "str1 = \"abcAbc123\"\n",
    "print(str1.capitalize())\n",
    "print(str1.center(20,'*'))\n",
    "print(str1.count('a'))\n",
    "print(str1.index('A'))\n",
    "print(str1.isalnum())\n",
    "print(str1.isalpha())"
   ]
  },
  {
   "cell_type": "markdown",
   "metadata": {},
   "source": [
    "### 1.Write a Python program to calculate the length of a string with and without using len() function"
   ]
  },
  {
   "cell_type": "code",
   "execution_count": 5,
   "metadata": {},
   "outputs": [
    {
     "name": "stdout",
     "output_type": "stream",
     "text": [
      "9\n",
      "9\n"
     ]
    }
   ],
   "source": [
    "str1 = \"abcABC123\"\n",
    "l1 = len(str1)\n",
    "print(l1)\n",
    "l2 = 0\n",
    "for i in str1:\n",
    "    l2+=1\n",
    "print(l2)\n",
    "\n",
    "    "
   ]
  },
  {
   "cell_type": "markdown",
   "metadata": {},
   "source": [
    "### 2.Write a Python program to get a string from a given string where all occurrences of its first char have been changed to @, except the first char itself. \n",
    "### Sample String : 'restart'\n",
    "### Expected Result : 'resta@t'"
   ]
  },
  {
   "cell_type": "code",
   "execution_count": 7,
   "metadata": {},
   "outputs": [
    {
     "name": "stdout",
     "output_type": "stream",
     "text": [
      "resta@t@\n"
     ]
    }
   ],
   "source": [
    "str1 = \"restartr\"\n",
    "str2 = str1.replace(str1[0],'@')\n",
    "print(str1[0]+str2[1:])"
   ]
  },
  {
   "cell_type": "markdown",
   "metadata": {},
   "source": [
    "### 3.Function to return the sum of even digits in a given string\n",
    "### Example : \n",
    "### Input : Appli1cat8ion89\n",
    "### Output: 16(8+8)"
   ]
  },
  {
   "cell_type": "code",
   "execution_count": 8,
   "metadata": {},
   "outputs": [
    {
     "data": {
      "text/plain": [
       "16"
      ]
     },
     "execution_count": 8,
     "metadata": {},
     "output_type": "execute_result"
    }
   ],
   "source": [
    "def sumOfEvenDigits(str):\n",
    "    sum = 0\n",
    "    for x in range(len(str)):\n",
    "        if ord(str[x]) >= 48 and ord(str[x]) <= 57:\n",
    "            if (ord(str[x])-48) % 2 == 0:\n",
    "                sum = sum + (ord(str[x])-48)            \n",
    "    return sum\n",
    "sumOfEvenDigits('Appli1cat8ion89')"
   ]
  },
  {
   "cell_type": "markdown",
   "metadata": {},
   "source": [
    "### 4.sum of digits in a string "
   ]
  },
  {
   "cell_type": "code",
   "execution_count": 10,
   "metadata": {},
   "outputs": [
    {
     "data": {
      "text/plain": [
       "20"
      ]
     },
     "execution_count": 10,
     "metadata": {},
     "output_type": "execute_result"
    }
   ],
   "source": [
    "def sum_digits(str1):\n",
    "    sum=0\n",
    "    for i in str1:\n",
    "        if i.isdigit():\n",
    "            sum+=int(i)\n",
    "    return sum\n",
    "sum_digits(\"abc123356\")"
   ]
  }
 ],
 "metadata": {
  "kernelspec": {
   "display_name": "Python 3",
   "language": "python",
   "name": "python3"
  },
  "language_info": {
   "codemirror_mode": {
    "name": "ipython",
    "version": 3
   },
   "file_extension": ".py",
   "mimetype": "text/x-python",
   "name": "python",
   "nbconvert_exporter": "python",
   "pygments_lexer": "ipython3",
   "version": "3.7.3"
  }
 },
 "nbformat": 4,
 "nbformat_minor": 2
}
