{
 "cells": [
  {
   "cell_type": "code",
   "execution_count": 2,
   "metadata": {},
   "outputs": [
    {
     "name": "stdout",
     "output_type": "stream",
     "text": [
      "ID: 1 \n",
      "Name: preeti\n"
     ]
    }
   ],
   "source": [
    "#class creation in python\n",
    "class Employee:  \n",
    "    id = 1 \n",
    "    name = \"preeti\"  \n",
    "    def display (self):  \n",
    "        print(\"ID: %d \\nName: %s\"%(self.id,self.name))  \n",
    "emp = Employee()  \n",
    "emp.display()  "
   ]
  },
  {
   "cell_type": "markdown",
   "metadata": {},
   "source": [
    "### Python Constructor\n",
    "A constructor is a special type of method (function) which is used to initialize the instance members of the class.\n",
    "\n",
    "##### Constructors can be of two types.\n",
    "\n",
    "1. Parameterized Constructor\n",
    "2. Non-parameterized Constructor"
   ]
  },
  {
   "cell_type": "code",
   "execution_count": 10,
   "metadata": {},
   "outputs": [
    {
     "name": "stdout",
     "output_type": "stream",
     "text": [
      "This is non parametrized constructor\n",
      "Hello John\n"
     ]
    }
   ],
   "source": [
    "# Constructor - non parameterized  \n",
    "class Student:      \n",
    "    def __init__(self):    \n",
    "        print(\"This is non parametrized constructor\")    \n",
    "    def show(self,name):    \n",
    "        print(\"Hello\",name)    \n",
    "student = Student()    \n",
    "student.show(\"John\")"
   ]
  },
  {
   "cell_type": "code",
   "execution_count": 3,
   "metadata": {},
   "outputs": [
    {
     "name": "stdout",
     "output_type": "stream",
     "text": [
      "ID: 101 \n",
      "Name: preeti\n",
      "ID: 102 \n",
      "Name: mounika\n"
     ]
    }
   ],
   "source": [
    "#creating a parameterized constructor\n",
    "class Employee:  \n",
    "    def __init__(self,name,id):  \n",
    "        self.id = id;  \n",
    "        self.name = name;  \n",
    "    def display (self):  \n",
    "        print(\"ID: %d \\nName: %s\"%(self.id,self.name))  \n",
    "emp1 = Employee(\"preeti\",101)  \n",
    "emp2 = Employee(\"mounika\",102)  \n",
    "  \n",
    "#accessing display() method to print employee 1 information  \n",
    "   \n",
    "emp1.display();   \n",
    "  \n",
    "#accessing display() method to print employee 2 information  \n",
    "emp2.display();   "
   ]
  },
  {
   "cell_type": "code",
   "execution_count": 9,
   "metadata": {},
   "outputs": [
    {
     "name": "stdout",
     "output_type": "stream",
     "text": [
      "153.86\n",
      "87.92\n"
     ]
    }
   ],
   "source": [
    "#create a class and create two methods for finding area and perimeter of a circle\n",
    "class circle:\n",
    "    def __init__(self,r):\n",
    "        self.r = r\n",
    "    def area(self):\n",
    "        return 3.14*self.r*self.r\n",
    "    def perimeter(self):\n",
    "        return 4*3.14*self.r\n",
    "c = circle(7)\n",
    "print(c.area())\n",
    "print(c.perimeter())"
   ]
  },
  {
   "cell_type": "code",
   "execution_count": 5,
   "metadata": {},
   "outputs": [
    {
     "name": "stdout",
     "output_type": "stream",
     "text": [
      "The number of students: 3\n"
     ]
    }
   ],
   "source": [
    "#counting no.of objects of a class\n",
    "class Student:  \n",
    "    count = 0  \n",
    "    def __init__(self):  \n",
    "        Student.count += 1  \n",
    "s1=Student()  \n",
    "s2=Student()  \n",
    "s3=Student()  \n",
    "print(\"The number of students:\",Student.count)  "
   ]
  },
  {
   "cell_type": "markdown",
   "metadata": {},
   "source": [
    "## In-built class functions:\n",
    "1. getattr(obj,name,default)-->It is used to access the attribute of the object.\n",
    "2. setattr(obj, name,value)-->It is used to set a particular value to the specific attribute of an object.\n",
    "3. delattr(obj, name)-->It is used to delete a specific attribute.\n",
    "4. hasattr(obj, name)-->It returns true if the object contains some specific attribute."
   ]
  },
  {
   "cell_type": "code",
   "execution_count": 11,
   "metadata": {},
   "outputs": [
    {
     "name": "stdout",
     "output_type": "stream",
     "text": [
      "John\n",
      "23\n",
      "True\n"
     ]
    },
    {
     "ename": "AttributeError",
     "evalue": "'Student' object has no attribute 'age'",
     "output_type": "error",
     "traceback": [
      "\u001b[1;31m---------------------------------------------------------------------------\u001b[0m",
      "\u001b[1;31mAttributeError\u001b[0m                            Traceback (most recent call last)",
      "\u001b[1;32m<ipython-input-11-e119ee0ae9fe>\u001b[0m in \u001b[0;36m<module>\u001b[1;34m\u001b[0m\n\u001b[0;32m     10\u001b[0m \u001b[0mprint\u001b[0m\u001b[1;33m(\u001b[0m\u001b[0mhasattr\u001b[0m\u001b[1;33m(\u001b[0m\u001b[0ms\u001b[0m\u001b[1;33m,\u001b[0m\u001b[1;34m'id'\u001b[0m\u001b[1;33m)\u001b[0m\u001b[1;33m)\u001b[0m\u001b[1;33m\u001b[0m\u001b[1;33m\u001b[0m\u001b[0m\n\u001b[0;32m     11\u001b[0m \u001b[0mdelattr\u001b[0m\u001b[1;33m(\u001b[0m\u001b[0ms\u001b[0m\u001b[1;33m,\u001b[0m\u001b[1;34m'age'\u001b[0m\u001b[1;33m)\u001b[0m\u001b[1;33m\u001b[0m\u001b[1;33m\u001b[0m\u001b[0m\n\u001b[1;32m---> 12\u001b[1;33m \u001b[0mprint\u001b[0m\u001b[1;33m(\u001b[0m\u001b[0ms\u001b[0m\u001b[1;33m.\u001b[0m\u001b[0mage\u001b[0m\u001b[1;33m)\u001b[0m\u001b[1;33m\u001b[0m\u001b[1;33m\u001b[0m\u001b[0m\n\u001b[0m",
      "\u001b[1;31mAttributeError\u001b[0m: 'Student' object has no attribute 'age'"
     ]
    }
   ],
   "source": [
    "class Student:  \n",
    "    def __init__(self,name,id,age):  \n",
    "        self.name = name;  \n",
    "        self.id = id;  \n",
    "        self.age = age  \n",
    "s = Student(\"John\",101,22)  \n",
    "print(getattr(s,'name'))#gives corresponding attribute value\n",
    "setattr(s,\"age\",23) #sets the given attribute value to specified value\n",
    "print(getattr(s,'age'))  \n",
    "print(hasattr(s,'id'))#checks whether the attribute is there or not\n",
    "delattr(s,'age')#deletes the given attribute\n",
    "print(s.age)  "
   ]
  },
  {
   "cell_type": "markdown",
   "metadata": {},
   "source": [
    "## issubclass(class1,class2)\n",
    "## isinstance(obj,class_name)"
   ]
  },
  {
   "cell_type": "markdown",
   "metadata": {
    "colab_type": "text",
    "id": "HXgqCU8Z_Lyk"
   },
   "source": [
    "# ploymorphism :\n",
    "### poly --> many\n",
    "### morph --> forms "
   ]
  },
  {
   "cell_type": "code",
   "execution_count": 0,
   "metadata": {
    "colab": {
     "base_uri": "https://localhost:8080/",
     "height": 35
    },
    "colab_type": "code",
    "id": "ERU_gz-_9LTF",
    "outputId": "cd75d594-e6fc-49b1-c054-71b7eaca28b2"
   },
   "outputs": [
    {
     "data": {
      "text/plain": [
       "8"
      ]
     },
     "execution_count": 1,
     "metadata": {
      "tags": []
     },
     "output_type": "execute_result"
    }
   ],
   "source": [
    "3 + 5 #addition"
   ]
  },
  {
   "cell_type": "code",
   "execution_count": 0,
   "metadata": {
    "colab": {
     "base_uri": "https://localhost:8080/",
     "height": 35
    },
    "colab_type": "code",
    "id": "IafJ-HSJ_TNy",
    "outputId": "7427da39-02dd-416f-9653-7967de6afd86"
   },
   "outputs": [
    {
     "data": {
      "text/plain": [
       "'abcxyz'"
      ]
     },
     "execution_count": 2,
     "metadata": {
      "tags": []
     },
     "output_type": "execute_result"
    }
   ],
   "source": [
    "\"abc\" + \"xyz\" #concatenation"
   ]
  },
  {
   "cell_type": "code",
   "execution_count": 1,
   "metadata": {
    "colab": {
     "base_uri": "https://localhost:8080/",
     "height": 35
    },
    "colab_type": "code",
    "id": "ZTZq2JQs_ZpY",
    "outputId": "b794eb0b-e9dd-4e0e-a427-81303cb59746"
   },
   "outputs": [
    {
     "name": "stdout",
     "output_type": "stream",
     "text": [
      "69\n"
     ]
    }
   ],
   "source": [
    "#Function overloading\n",
    "def add(x,y):\n",
    "    return x+y\n",
    "\n",
    "def add(x,y,z):\n",
    "    return x+y+z\n",
    "\n",
    "#print(add(12,23))\n",
    "print(add(12,23,34))\n"
   ]
  },
  {
   "cell_type": "code",
   "execution_count": 0,
   "metadata": {
    "colab": {
     "base_uri": "https://localhost:8080/",
     "height": 52
    },
    "colab_type": "code",
    "id": "lDZ-q3ZMIg9Q",
    "outputId": "22ea24ee-28d1-4146-c31d-a38d737b6ea7"
   },
   "outputs": [
    {
     "name": "stdout",
     "output_type": "stream",
     "text": [
      "292\n",
      "60\n"
     ]
    }
   ],
   "source": [
    "#variable length arguments\n",
    "def add(*x):\n",
    "  s = 0\n",
    "  for i in x:\n",
    "    s+=i\n",
    "  return s\n",
    "print(add(12,23,34,56,67,100))\n",
    "print(add(10,20,30))"
   ]
  },
  {
   "cell_type": "code",
   "execution_count": 0,
   "metadata": {
    "colab": {
     "base_uri": "https://localhost:8080/",
     "height": 35
    },
    "colab_type": "code",
    "id": "RilWz8itJp6U",
    "outputId": "99897dc9-d5b2-493e-ad45-58e2f5367b07"
   },
   "outputs": [
    {
     "name": "stdout",
     "output_type": "stream",
     "text": [
      "60\n"
     ]
    }
   ],
   "source": [
    "# Method overloading\n",
    "class A:\n",
    "  def add(self,x,y):\n",
    "    print(x+y)\n",
    "  def add(self,x,y,z):\n",
    "     print(x+y+z)\n",
    "a = A()\n",
    "#a.add(10,20)\n",
    "a.add(10,20,30)"
   ]
  },
  {
   "cell_type": "code",
   "execution_count": 0,
   "metadata": {
    "colab": {
     "base_uri": "https://localhost:8080/",
     "height": 35
    },
    "colab_type": "code",
    "id": "rZOyBouGLx0s",
    "outputId": "6361d66e-ba58-4aa2-a76e-314684adab32"
   },
   "outputs": [
    {
     "name": "stdout",
     "output_type": "stream",
     "text": [
      "This is class A method\n"
     ]
    }
   ],
   "source": [
    "#Method overriding\n",
    "class A:\n",
    "  def add(self):\n",
    "    print(\"This is class A method\")\n",
    "class B(A):\n",
    "  def add(self):\n",
    "    print(\"This is class B method\")\n",
    "b = B()\n",
    "b.add()"
   ]
  },
  {
   "cell_type": "code",
   "execution_count": 0,
   "metadata": {
    "colab": {
     "base_uri": "https://localhost:8080/",
     "height": 51
    },
    "colab_type": "code",
    "id": "Zx-mybvcP3k4",
    "outputId": "126f8636-f934-47dd-c897-74957419c8e0"
   },
   "outputs": [
    {
     "name": "stdout",
     "output_type": "stream",
     "text": [
      "(30, 50)\n",
      "obj1 is < obj2\n"
     ]
    }
   ],
   "source": [
    "# operator overloading\n",
    "# a,b objects of user-defined class 'A'\n",
    "class A:\n",
    "  def __init__(self,x,y):\n",
    "    self.x = x\n",
    "    self.y = y\n",
    "  def __add__(self,value):\n",
    "    return (self.x+value.x,self.y+value.y)\n",
    "  def __lt__(self,value):\n",
    "    if self.x+self.y < value.x+value.y :\n",
    "      print(\"obj1 is < obj2\")\n",
    "    else:\n",
    "      print(\"obj2 is < obj1\")\n",
    "\n",
    "a = A(10,20)\n",
    "b = A(20,30)\n",
    "print(a + b)\n",
    "a < b#obj1 is less than obj2\n",
    "#print(a > b)\n"
   ]
  },
  {
   "cell_type": "code",
   "execution_count": 0,
   "metadata": {
    "colab": {
     "base_uri": "https://localhost:8080/",
     "height": 35
    },
    "colab_type": "code",
    "id": "KtTT_cFXH77i",
    "outputId": "79d1d93c-5eab-40d6-bb82-2728265d8567"
   },
   "outputs": [
    {
     "data": {
      "text/plain": [
       "30"
      ]
     },
     "execution_count": 2,
     "metadata": {
      "tags": []
     },
     "output_type": "execute_result"
    }
   ],
   "source": [
    "#x,y objects of predefined class 'int'\n",
    "x = 10\n",
    "y = 20\n",
    "x + y\n",
    "def __add__(self,vale):\n",
    "  return self+value\n"
   ]
  },
  {
   "cell_type": "code",
   "execution_count": 0,
   "metadata": {
    "colab": {},
    "colab_type": "code",
    "id": "vzn90759PmWh"
   },
   "outputs": [],
   "source": [
    "# Encapsulation : Binding members and methods into a single unit\n",
    "# class --> Data members(varibles) , methods(function)"
   ]
  },
  {
   "cell_type": "code",
   "execution_count": 0,
   "metadata": {
    "colab": {
     "base_uri": "https://localhost:8080/",
     "height": 69
    },
    "colab_type": "code",
    "id": "NARmWpWhPm_l",
    "outputId": "86ec8474-39f5-4c0f-b23f-229e2bf5e833"
   },
   "outputs": [
    {
     "name": "stdout",
     "output_type": "stream",
     "text": [
      "1\n",
      "2\n",
      "2\n"
     ]
    }
   ],
   "source": [
    "# Abstraction : Data hiding\n",
    "class A:\n",
    "  __a = 0\n",
    "  def count(self):\n",
    "    self.__a += 1\n",
    "    print(self.__a)\n",
    "\n",
    "obj = A()\n",
    "obj.count()\n",
    "obj.count()\n",
    "print(obj._A__a)\n"
   ]
  },
  {
   "cell_type": "code",
   "execution_count": 15,
   "metadata": {
    "colab": {},
    "colab_type": "code",
    "id": "EWuhHGf5PnD2"
   },
   "outputs": [
    {
     "name": "stdout",
     "output_type": "stream",
     "text": [
      "2\n",
      "The number of employees 2\n"
     ]
    }
   ],
   "source": [
    "class Employee:  \n",
    "    __count = 0;  \n",
    "    def __init__(self):  \n",
    "        Employee.__count = Employee.__count+1  \n",
    "    def display(self):  \n",
    "        print(\"The number of employees\",Employee.__count)  \n",
    "emp = Employee()  \n",
    "emp2 = Employee()  \n",
    "try:  \n",
    "    print(emp._Employee__count)  \n",
    "finally:  \n",
    "    emp.display()  "
   ]
  },
  {
   "cell_type": "markdown",
   "metadata": {
    "colab_type": "text",
    "id": "DQ9Yah1IPn18"
   },
   "source": [
    "## Topics :\n",
    "## String Built-in methods:\n",
    "1. capitalize()\n",
    "2. casefold()\n",
    "3. center()\n",
    "4. count()\n",
    "5. endswith()\n",
    "6. expandtabs()\n",
    "7. find()\n",
    "8. format()\n",
    " 'format_map',\n",
    " 'index',\n",
    " 'isalnum',\n",
    " 'isalpha',\n",
    " 'isdecimal',\n",
    " 'isdigit',\n",
    " 'isidentifier',\n",
    " 'islower',\n",
    " 'isnumeric',\n",
    " 'isprintable',\n",
    " 'isspace',\n",
    " 'istitle',\n",
    " 'isupper',\n",
    " 'join',\n",
    " 'ljust',\n",
    " 'lower',\n",
    " 'lstrip',\n",
    " 'maketrans',\n",
    " 'partition',\n",
    " 'replace',\n",
    " 'rfind',\n",
    " 'rindex',\n",
    " 'rjust',\n",
    " 'rpartition',\n",
    " 'rsplit',\n",
    " 'rstrip',\n",
    " 'split',\n",
    " 'splitlines',\n",
    " 'startswith',\n",
    " 'strip',\n",
    " 'swapcase',\n",
    " 'title',\n",
    " 'translate',\n",
    " 'upper',\n",
    " 'zfill']\n"
   ]
  },
  {
   "cell_type": "code",
   "execution_count": 0,
   "metadata": {
    "colab": {
     "base_uri": "https://localhost:8080/",
     "height": 221
    },
    "colab_type": "code",
    "id": "WfiNKI8XnWVp",
    "outputId": "745c02b5-9f41-41c3-fd55-e057b62cd07d"
   },
   "outputs": [
    {
     "name": "stdout",
     "output_type": "stream",
     "text": [
      "  string  \n",
      "False\n",
      "******Stringri******\n",
      "2\n",
      "True\n",
      "True\n",
      "sTriNg\n",
      "sTriNg  \n",
      "  sTriNg\n",
      "0\n",
      "18\n",
      "['abc', 'abcde', 'abcdefg']\n"
     ]
    }
   ],
   "source": [
    "#string Built-in methods:\n",
    "s1 = \"Stringri\"\n",
    "s2 = \"  sTriNg  \"\n",
    "s3 = \"abc bc b abc bc b abc\"\n",
    "s4 = \"abc\\tabcde\\tabcdefg\"\n",
    "s5 = s4\n",
    "print(s2.capitalize())#capitalizes the first character and remaining in lower case \n",
    "print(s1.casefold()==s2.casefold())#compares irrespective of case\n",
    "print(s1.center(20,\"*\"))\n",
    "print(s1.count('ri'))\n",
    "print(s1.endswith(\"ri\"))\n",
    "print(s1.startswith(\"St\"))\n",
    "print(s2.strip())\n",
    "print(s2.lstrip())\n",
    "print(s2.rstrip())\n",
    "print(s3.find(\"abc\"))\n",
    "print(s3.rfind(\"abc\"))\n",
    "print(s4.expandtabs())\n",
    "print(s5)\n"
   ]
  },
  {
   "cell_type": "code",
   "execution_count": 0,
   "metadata": {
    "colab": {},
    "colab_type": "code",
    "id": "hjfcBAA_OXaw"
   },
   "outputs": [],
   "source": []
  }
 ],
 "metadata": {
  "accelerator": "GPU",
  "colab": {
   "name": "oops.ipynb",
   "provenance": []
  },
  "kernelspec": {
   "display_name": "Python 3",
   "language": "python",
   "name": "python3"
  },
  "language_info": {
   "codemirror_mode": {
    "name": "ipython",
    "version": 3
   },
   "file_extension": ".py",
   "mimetype": "text/x-python",
   "name": "python",
   "nbconvert_exporter": "python",
   "pygments_lexer": "ipython3",
   "version": "3.7.3"
  }
 },
 "nbformat": 4,
 "nbformat_minor": 1
}
