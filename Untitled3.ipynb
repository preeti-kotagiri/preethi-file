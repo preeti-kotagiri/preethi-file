{
 "cells": [
  {
   "cell_type": "code",
   "execution_count": 1,
   "metadata": {},
   "outputs": [
    {
     "name": "stdout",
     "output_type": "stream",
     "text": [
      "enter a number12345\n",
      "[2, 4]\n"
     ]
    }
   ],
   "source": [
    "def evenlistinnumber(n):\n",
    "    r=0\n",
    "    lst=[]\n",
    "    while (n!=0):\n",
    "        r=n%10\n",
    "        if(r%2==0):\n",
    "            lst.append(r)\n",
    "        n=n//10\n",
    "    lst.reverse()\n",
    "    print(lst)\n",
    "n=int(input(\"enter a number\"))\n",
    "evenlistinnumber(n)"
   ]
  },
  {
   "cell_type": "code",
   "execution_count": null,
   "metadata": {},
   "outputs": [],
   "source": []
  }
 ],
 "metadata": {
  "kernelspec": {
   "display_name": "Python 3",
   "language": "python",
   "name": "python3"
  },
  "language_info": {
   "codemirror_mode": {
    "name": "ipython",
    "version": 3
   },
   "file_extension": ".py",
   "mimetype": "text/x-python",
   "name": "python",
   "nbconvert_exporter": "python",
   "pygments_lexer": "ipython3",
   "version": "3.7.3"
  }
 },
 "nbformat": 4,
 "nbformat_minor": 2
}
