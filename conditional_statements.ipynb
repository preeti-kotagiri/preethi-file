{
 "cells": [
  {
   "cell_type": "markdown",
   "metadata": {},
   "source": [
    "### 1. program to accept two integers and check whether they are equal or not.\n",
    "### 2. program to check whether a given number is even or odd\n",
    "### 3. program to find whether a given year is a leap year or not.\n",
    "### 4. program to read the age of a candidate and determine whether it is eligible for casting his/her own vote\n",
    "### 5. program to find the largest of three numbers\n",
    "### 6. Write a program in C to accept a grade and display the equivalent description:\n",
    "     \n",
    "    Grade\tDescription\n",
    "    E\tExcellent\n",
    "    V\tVery Good\n",
    "    G\tGood\n",
    "    A\tAverage\n",
    "    F\tFail"
   ]
  },
  {
   "cell_type": "code",
   "execution_count": null,
   "metadata": {},
   "outputs": [],
   "source": [
    "n=int(input(\"enter a number\"))\n",
    "if n>=0:\n",
    "  i=2\n",
    "  count=0\n",
    "  while(i<=n):\n",
    "    if(n%i==0):\n",
    "      count+=1\n",
    "    i+=1\n",
    "  \n",
    "if count==0:\n",
    "  print(\"prime\")\n",
    "else:\n",
    "  print(\"not prime\")"
   ]
  },
  {
   "cell_type": "markdown",
   "metadata": {},
   "source": [
    "![image](ab.jpg)"
   ]
  },
  {
   "cell_type": "markdown",
   "metadata": {},
   "source": [
    "[click me](https://stackoverflow.com/questions/25692293/inserting-a-link-to-a-webpage-in-an-ipython-notebook)"
   ]
  },
  {
   "cell_type": "code",
   "execution_count": 14,
   "metadata": {},
   "outputs": [
    {
     "name": "stdout",
     "output_type": "stream",
     "text": [
      "roots are equal and root value is: -1.0\n"
     ]
    }
   ],
   "source": [
    "#Quadratic equation is ax^2+bx+c=0\n",
    "a=10\n",
    "b=20\n",
    "c=10\n",
    "if a!=0:\n",
    "    delta=(b*b)-(4*a*c)\n",
    "    if delta<0:\n",
    "        print(\"we cannot findout roots\")\n",
    "    elif delta==0:\n",
    "        print(\"roots are equal and root value is:\",(-b+sqrt(delta))//(2*a))\n",
    "    else:\n",
    "        x=(-b+sqrt(delta))//(2*a)\n",
    "        y=(-b-sqrt(delta))//(2*a)\n",
    "    \n",
    "        print(\"First root is:\",x,\"second root is:\",y)\n",
    "    "
   ]
  },
  {
   "cell_type": "code",
   "execution_count": 15,
   "metadata": {},
   "outputs": [
    {
     "name": "stdout",
     "output_type": "stream",
     "text": [
      "enter x value34\n",
      "enter y value56\n",
      "x and y are not same\n"
     ]
    }
   ],
   "source": [
    "#program1\n",
    "x=int(input(\"enter x value\"))\n",
    "y=int(input(\"enter y value\"))\n",
    "if x==y:\n",
    "    print(\"x and y are same\")\n",
    "else:\n",
    "    print(\"x and y are not same\")"
   ]
  },
  {
   "cell_type": "code",
   "execution_count": 16,
   "metadata": {},
   "outputs": [
    {
     "name": "stdout",
     "output_type": "stream",
     "text": [
      "enter x value45\n",
      "given number is odd\n"
     ]
    }
   ],
   "source": [
    "#program2\n",
    "x=int(input(\"enter x value\"))\n",
    "if x%2==0:\n",
    "    print(\"given number is even\")\n",
    "else:\n",
    "    print(\"given number is odd\")"
   ]
  },
  {
   "cell_type": "code",
   "execution_count": 18,
   "metadata": {},
   "outputs": [
    {
     "name": "stdout",
     "output_type": "stream",
     "text": [
      "enter the year2008\n",
      "the given year is leap year\n"
     ]
    }
   ],
   "source": [
    "#program3\n",
    "year=int(input(\"enter the year\"))\n",
    "if year%4==0 or year%400==0:\n",
    "    print(\"the given year is leap year\")\n",
    "else:\n",
    "    print(\"the given year is not a leap year\")"
   ]
  },
  {
   "cell_type": "code",
   "execution_count": 20,
   "metadata": {},
   "outputs": [
    {
     "name": "stdout",
     "output_type": "stream",
     "text": [
      "enter age of the candidate100\n",
      "not eligible for voting\n"
     ]
    }
   ],
   "source": [
    "#program4\n",
    "age=int(input(\"enter age of the candidate\"))\n",
    "if age>=18 and age<85:\n",
    "    print(\"eligible for voting\")\n",
    "else:\n",
    "    print(\"not eligible for voting\")"
   ]
  },
  {
   "cell_type": "code",
   "execution_count": 22,
   "metadata": {},
   "outputs": [
    {
     "name": "stdout",
     "output_type": "stream",
     "text": [
      "enter x value34\n",
      "enter y value56\n",
      "enter z value78\n",
      "z is largest and value of z is: 78\n"
     ]
    }
   ],
   "source": [
    "#program 5\n",
    "x=int(input(\"enter x value\"))\n",
    "y=int(input(\"enter y value\"))\n",
    "z=int(input(\"enter z value\"))\n",
    "if x>y and x>z:\n",
    "    print(\"x is largest and value of x is:\",x)\n",
    "elif y>z:\n",
    "    print(\"y is largest and value of y is:\",y)\n",
    "else:\n",
    "    print(\"z is largest and value of z is:\",z)"
   ]
  },
  {
   "cell_type": "code",
   "execution_count": 23,
   "metadata": {},
   "outputs": [
    {
     "name": "stdout",
     "output_type": "stream",
     "text": [
      "select grade from the given list: E,V,G,A,FA\n",
      "ur grade is AVERAGE\n"
     ]
    }
   ],
   "source": [
    "#program 6\n",
    "grade=input(\"select grade from the given list: E,V,G,A,F\")\n",
    "if grade=='E':\n",
    "    print(\"ur grade is EXCELLENT\")\n",
    "elif grade=='V':\n",
    "    print(\"ur grade is VERY GOOD\")\n",
    "elif grade=='G':\n",
    "    print(\"ur grade is GOOD\")\n",
    "elif grade==\"A\":\n",
    "    print(\"ur grade is AVERAGE\")\n",
    "else:\n",
    "    print(\"ur FAIL\")"
   ]
  },
  {
   "cell_type": "code",
   "execution_count": null,
   "metadata": {},
   "outputs": [],
   "source": []
  }
 ],
 "metadata": {
  "kernelspec": {
   "display_name": "Python 3",
   "language": "python",
   "name": "python3"
  },
  "language_info": {
   "codemirror_mode": {
    "name": "ipython",
    "version": 3
   },
   "file_extension": ".py",
   "mimetype": "text/x-python",
   "name": "python",
   "nbconvert_exporter": "python",
   "pygments_lexer": "ipython3",
   "version": "3.7.3"
  }
 },
 "nbformat": 4,
 "nbformat_minor": 2
}
