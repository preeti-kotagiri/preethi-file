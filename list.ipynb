{
 "cells": [
  {
   "cell_type": "markdown",
   "metadata": {},
   "source": [
    "## List:\n",
    "### List is a collection of elements of different type,enclosed by [ ] and and each and every element is separated by comma.\n",
    "### list are mutable and allows duplicate values."
   ]
  },
  {
   "cell_type": "code",
   "execution_count": 3,
   "metadata": {},
   "outputs": [
    {
     "name": "stdout",
     "output_type": "stream",
     "text": [
      "[2, 3, 45, 56.45, True, 'abc']\n",
      "<class 'list'>\n"
     ]
    }
   ],
   "source": [
    "list1 = [2,3,45,56.45,True,\"abc\"]\n",
    "print(list1)\n",
    "print(type(list1))"
   ]
  },
  {
   "cell_type": "markdown",
   "metadata": {},
   "source": [
    "### program1: Write a Python program to sum all the items in a list"
   ]
  },
  {
   "cell_type": "code",
   "execution_count": 9,
   "metadata": {},
   "outputs": [
    {
     "name": "stdout",
     "output_type": "stream",
     "text": [
      "15\n"
     ]
    },
    {
     "data": {
      "text/plain": [
       "[5, 4, 3, 2, 1]"
      ]
     },
     "execution_count": 9,
     "metadata": {},
     "output_type": "execute_result"
    }
   ],
   "source": [
    "list1 = [1,2,3,4,5]\n",
    "sum = 0\n",
    "for i in list1:\n",
    "    sum = sum + i\n",
    "print(sum)\n"
   ]
  },
  {
   "cell_type": "markdown",
   "metadata": {},
   "source": [
    "### Operations on list:\n",
    "### 1. adding elements into a list -->append(),insert(),extend()\n",
    "### 2. updating a list \n",
    "### 3. removing elements from a list-->pop(),remove(),clear()\n",
    "### 4. sorting and reversing a list-->sort(),sort(reverse=True),reverse()\n",
    "### 5. count(),index(),copy()\n"
   ]
  },
  {
   "cell_type": "code",
   "execution_count": 4,
   "metadata": {},
   "outputs": [
    {
     "name": "stdout",
     "output_type": "stream",
     "text": [
      "list before adding elements: [1, 2, 3, 4, 5]\n",
      "list after adding elements using append: [1, 2, 3, 4, 5, 6, 7]\n",
      "list after adding elements using insert: [1, 2, 10, 3, 20, 4, 5, 6, 7]\n",
      "list after adding elements using extend: [1, 2, 10, 3, 20, 4, 5, 6, 7, 8, 9, 10]\n"
     ]
    }
   ],
   "source": [
    "#adding elements\n",
    "list1 = [1,2,3,4,5]\n",
    "print(\"list before adding elements:\",list1)\n",
    "list1.append(6)\n",
    "list1.append(7)\n",
    "print(\"list after adding elements using append:\",list1)\n",
    "list1.insert(2,10)\n",
    "list1.insert(4,20)\n",
    "print(\"list after adding elements using insert:\",list1)\n",
    "list1.extend([8,9,10])\n",
    "print(\"list after adding elements using extend:\",list1)\n"
   ]
  },
  {
   "cell_type": "code",
   "execution_count": 7,
   "metadata": {},
   "outputs": [
    {
     "name": "stdout",
     "output_type": "stream",
     "text": [
      "original list: [1, 2, 3]\n",
      "updates list: [1, 2, 10]\n"
     ]
    }
   ],
   "source": [
    "#updating a list\n",
    "list1 = [1,2,3]\n",
    "print(\"original list:\",list1)\n",
    "list1[2] = 10\n",
    "print(\"updates list:\",list1)"
   ]
  },
  {
   "cell_type": "code",
   "execution_count": 6,
   "metadata": {},
   "outputs": [
    {
     "name": "stdout",
     "output_type": "stream",
     "text": [
      "list before removing elements: [1, 2, 3, 4, 5]\n",
      "list after removing elements using pop: [1, 2, 4]\n",
      "list after removing elements using remove: [1, 2]\n",
      "list after removing all the elements using clear: []\n"
     ]
    }
   ],
   "source": [
    "#removing elements\n",
    "list1 = [1,2,3,4,5]\n",
    "print(\"list before removing elements:\",list1)\n",
    "list1.pop()\n",
    "list1.pop(2)\n",
    "print(\"list after removing elements using pop:\",list1)\n",
    "list1.remove(4)\n",
    "print(\"list after removing elements using remove:\",list1)\n",
    "list1.clear()\n",
    "print(\"list after removing all the elements using clear:\",list1)\n",
    "\n"
   ]
  },
  {
   "cell_type": "code",
   "execution_count": 19,
   "metadata": {},
   "outputs": [
    {
     "name": "stdout",
     "output_type": "stream",
     "text": [
      "original list: [11, 2, 3, 42, 55]\n",
      "reversed list: [55, 42, 3, 2, 11]\n",
      "sorterd list-Ascending order: [2, 3, 11, 42, 55]\n",
      "sorted list-Dscending order: [55, 42, 11, 3, 2]\n"
     ]
    }
   ],
   "source": [
    "#sorting and reversing a list\n",
    "list1 = [11,2,3,42,55]\n",
    "print(\"original list:\",list1)\n",
    "list1.reverse()\n",
    "print(\"reversed list:\",list1)\n",
    "list1.sort()\n",
    "print(\"sorterd list-Ascending order:\",list1)\n",
    "list1.sort(reverse=True)\n",
    "print(\"sorted list-Dscending order:\",list1)"
   ]
  },
  {
   "cell_type": "code",
   "execution_count": 22,
   "metadata": {},
   "outputs": [
    {
     "name": "stdout",
     "output_type": "stream",
     "text": [
      "index of element 5: 4\n",
      "element 6 is repeated 2 times\n",
      "[1, 2, 3, 4, 5, 6, 6] [1, 2, 3, 4, 5, 6, 6]\n"
     ]
    }
   ],
   "source": [
    "#index,count,copy methods\n",
    "list1 = [1,2,3,4,5,6,6]\n",
    "print(\"index of element 5:\",list1.index(5))\n",
    "print(\"element 6 is repeated\",list1.count(6),\"times\")\n",
    "list2 = list1.copy()\n",
    "print(list1,list2) #all the elements of the list1 are copied to list2"
   ]
  },
  {
   "cell_type": "markdown",
   "metadata": {},
   "source": [
    "### program2:Write a Python function that takes two lists and returns True if they have at least one common member"
   ]
  },
  {
   "cell_type": "code",
   "execution_count": 7,
   "metadata": {},
   "outputs": [
    {
     "name": "stdout",
     "output_type": "stream",
     "text": [
      "True\n"
     ]
    }
   ],
   "source": [
    "def common(list1,list2):\n",
    "    count = 0\n",
    "    for i in list1:\n",
    "        if i in list2:\n",
    "            count += 1\n",
    "    return count\n",
    "l1 = [1,2,3,4,5]\n",
    "l2 = [5,6,7,8]\n",
    "if common(l1,l2):\n",
    "    print(\"True\")\n",
    "else:\n",
    "    print(\"False\")"
   ]
  },
  {
   "cell_type": "markdown",
   "metadata": {},
   "source": [
    "### program3:write a python function that takes a list of strings and returns largest string among all the list elements"
   ]
  },
  {
   "cell_type": "code",
   "execution_count": 16,
   "metadata": {},
   "outputs": [
    {
     "data": {
      "text/plain": [
       "'abcrfg'"
      ]
     },
     "execution_count": 16,
     "metadata": {},
     "output_type": "execute_result"
    }
   ],
   "source": [
    "def largest(list1):\n",
    "    list2 = []\n",
    "    for i in list1:\n",
    "        list2.append(len(i))\n",
    "    return list1[list2.index(max(list2))]\n",
    "largest([\"abcrfg\",\"abcd\",\"abcde\"])"
   ]
  },
  {
   "cell_type": "markdown",
   "metadata": {},
   "source": [
    "### program4:printing all the elements of a string using for with iterable obj and range()"
   ]
  },
  {
   "cell_type": "code",
   "execution_count": 12,
   "metadata": {},
   "outputs": [
    {
     "name": "stdout",
     "output_type": "stream",
     "text": [
      "11 2 3 42 55 \n",
      "11 2 3 42 55 "
     ]
    }
   ],
   "source": [
    "list1 = [11,2,3,42,55]\n",
    "for i in list1:\n",
    "    print(i,end=\" \")\n",
    "print()\n",
    "for i in range(0,len(list1)):\n",
    "    print(list1[i],end=\" \")"
   ]
  },
  {
   "cell_type": "code",
   "execution_count": null,
   "metadata": {},
   "outputs": [],
   "source": []
  }
 ],
 "metadata": {
  "kernelspec": {
   "display_name": "Python 3",
   "language": "python",
   "name": "python3"
  },
  "language_info": {
   "codemirror_mode": {
    "name": "ipython",
    "version": 3
   },
   "file_extension": ".py",
   "mimetype": "text/x-python",
   "name": "python",
   "nbconvert_exporter": "python",
   "pygments_lexer": "ipython3",
   "version": "3.7.3"
  }
 },
 "nbformat": 4,
 "nbformat_minor": 2
}
