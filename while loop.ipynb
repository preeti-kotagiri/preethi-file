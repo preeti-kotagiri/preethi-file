{
 "cells": [
  {
   "cell_type": "markdown",
   "metadata": {},
   "source": [
    "## while loop\n",
    "### 1. program to print values from 1-n\n",
    "### 2. program to print even numbers from 1-n\n",
    "### 3. program to print sum of odd numbers between 1-n\n",
    "### 4. program to print sum of n natural numbers\n",
    "### 5. program to check whether the given number is palindrome or not\n",
    "### 6. program to calculate sum of digits of a number\n",
    "### 7. program to findout factorial of a number \n"
   ]
  },
  {
   "cell_type": "code",
   "execution_count": 2,
   "metadata": {},
   "outputs": [
    {
     "name": "stdout",
     "output_type": "stream",
     "text": [
      "enter a number5\n",
      "1  2  3  4  5  "
     ]
    }
   ],
   "source": [
    "#program1:program to print values from 1-n\n",
    "i=1\n",
    "n=int(input(\"enter a number\"))\n",
    "while(i<=n):\n",
    "    print(i,end=\"  \")\n",
    "    i+=1"
   ]
  },
  {
   "cell_type": "code",
   "execution_count": 3,
   "metadata": {},
   "outputs": [
    {
     "name": "stdout",
     "output_type": "stream",
     "text": [
      "enter a number10\n",
      "2  4  6  8  10  "
     ]
    }
   ],
   "source": [
    "#program2:program to print even numbers from 1-n\n",
    "i=1\n",
    "n=int(input(\"enter a number\"))\n",
    "while(i<=n):\n",
    "    if i%2==0:\n",
    "        print(i,end=\"  \")\n",
    "    i+=1"
   ]
  },
  {
   "cell_type": "code",
   "execution_count": 5,
   "metadata": {},
   "outputs": [
    {
     "name": "stdout",
     "output_type": "stream",
     "text": [
      "enter n value5\n",
      "sum is: 9\n"
     ]
    }
   ],
   "source": [
    "#program3: program to print sum of odd numbers between 1-n\n",
    "sum=0\n",
    "i=1\n",
    "n=int(input(\"enter n value\"))\n",
    "while(i<=n):\n",
    "    if i%2!=0:\n",
    "        sum=sum+i\n",
    "    i+=1\n",
    "print(\"sum is:\",sum)"
   ]
  },
  {
   "cell_type": "code",
   "execution_count": 8,
   "metadata": {},
   "outputs": [
    {
     "name": "stdout",
     "output_type": "stream",
     "text": [
      "enter a number10\n",
      "sum of n natural numbers is: 55\n"
     ]
    }
   ],
   "source": [
    "#program4:program to print sum of n natural numbers\n",
    "sum=0\n",
    "i=1\n",
    "n=int(input(\"enter a number\"))\n",
    "while(i<=n):\n",
    "    sum=sum+i\n",
    "    i+=1\n",
    "print(\"sum of n natural numbers is:\",sum)"
   ]
  },
  {
   "cell_type": "code",
   "execution_count": 10,
   "metadata": {},
   "outputs": [
    {
     "name": "stdout",
     "output_type": "stream",
     "text": [
      "enter a number234\n",
      "given number is not palindrome\n"
     ]
    }
   ],
   "source": [
    "#program5:program to check whether the given number is palindrome or not\n",
    "n=int(input(\"enter a number\"))\n",
    "temp=n\n",
    "rev=0\n",
    "while(n!=0):\n",
    "    r=n%10\n",
    "    rev=rev*10+r\n",
    "    n=n//10\n",
    "if rev==temp:\n",
    "    print(\"the given number is palindrome\")\n",
    "else:\n",
    "    print(\"given number is not palindrome\")\n",
    "    "
   ]
  },
  {
   "cell_type": "code",
   "execution_count": 12,
   "metadata": {},
   "outputs": [
    {
     "name": "stdout",
     "output_type": "stream",
     "text": [
      "enter a number123\n",
      "sum of digits of a number is: 6\n"
     ]
    }
   ],
   "source": [
    "#program6:program to calculate sum of digits of a number\n",
    "n=int(input(\"enter a number\"))\n",
    "sum=0\n",
    "while(n!=0):\n",
    "    r=n%10\n",
    "    sum+=r\n",
    "    n=n//10\n",
    "print(\"sum of digits of a number is:\",sum)"
   ]
  },
  {
   "cell_type": "code",
   "execution_count": 15,
   "metadata": {},
   "outputs": [
    {
     "name": "stdout",
     "output_type": "stream",
     "text": [
      "enter a number5\n",
      "factorial of the given number 5 is 120\n"
     ]
    }
   ],
   "source": [
    "#program7:program to findout factorial of a number \n",
    "n=int(input(\"enter a number\"))\n",
    "n1=n\n",
    "fact=1\n",
    "while n!=0:\n",
    "    fact*=n\n",
    "    n-=1\n",
    "print(\"factorial of the given number\",n1,\"is\",fact)\n",
    "    "
   ]
  }
 ],
 "metadata": {
  "kernelspec": {
   "display_name": "Python 3",
   "language": "python",
   "name": "python3"
  },
  "language_info": {
   "codemirror_mode": {
    "name": "ipython",
    "version": 3
   },
   "file_extension": ".py",
   "mimetype": "text/x-python",
   "name": "python",
   "nbconvert_exporter": "python",
   "pygments_lexer": "ipython3",
   "version": "3.7.3"
  }
 },
 "nbformat": 4,
 "nbformat_minor": 2
}
