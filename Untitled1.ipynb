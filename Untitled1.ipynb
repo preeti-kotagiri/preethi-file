{
 "cells": [
  {
   "cell_type": "code",
   "execution_count": 7,
   "metadata": {},
   "outputs": [
    {
     "name": "stdout",
     "output_type": "stream",
     "text": [
      "90\n"
     ]
    }
   ],
   "source": [
    "def printEven(n):\n",
    "    cnt=0;\n",
    "    sum=0;\n",
    "    while(cnt!=n):\n",
    "        if(cnt%2==0):\n",
    "            sum=sum+cnt;\n",
    "        cnt=cnt+1;\n",
    "    return sum;\n",
    "print(printEven(20));"
   ]
  },
  {
   "cell_type": "markdown",
   "metadata": {},
   "source": [
    "# example functional programming\n",
    "## factors list of a given number"
   ]
  },
  {
   "cell_type": "code",
   "execution_count": 8,
   "metadata": {},
   "outputs": [
    {
     "name": "stdout",
     "output_type": "stream",
     "text": [
      "1\n",
      "2\n",
      "3\n",
      "4\n",
      "6\n"
     ]
    }
   ],
   "source": [
    "def factorslist(n):\n",
    "    i=1;\n",
    "    while(i!=n):\n",
    "        if(n%i==0):\n",
    "            print(i);\n",
    "        i=i+1;\n",
    "    return;\n",
    "factorslist(12);"
   ]
  },
  {
   "cell_type": "markdown",
   "metadata": {},
   "source": [
    "## list in python\n",
    "### list can be written in python with square brackets and each item in the list separeded by comma operation\n",
    "### list item can be anything-- int,char,float,string\n",
    "#### example of list\n",
    "##### list[1,2,3,4,5]"
   ]
  },
  {
   "cell_type": "code",
   "execution_count": 9,
   "metadata": {},
   "outputs": [
    {
     "name": "stdout",
     "output_type": "stream",
     "text": [
      "[1, 2, 3, 4, 5]\n"
     ]
    }
   ],
   "source": [
    "list1=[1,2,3,4,5];\n",
    "print(list1);"
   ]
  },
  {
   "cell_type": "code",
   "execution_count": 10,
   "metadata": {},
   "outputs": [
    {
     "name": "stdout",
     "output_type": "stream",
     "text": [
      "[1, 2, 3, 4, 5]\n",
      "1\n"
     ]
    }
   ],
   "source": [
    "list=[1,2,3,4,5];\n",
    "#entire list;\n",
    "print(list1);\n",
    "#list[0];\n",
    "print(list1[0]);"
   ]
  },
  {
   "cell_type": "markdown",
   "metadata": {},
   "source": [
    "### for loop\n",
    "#### syntax:\n",
    "            for <variablename> in <seq>:\n",
    "                    <statement>"
   ]
  },
  {
   "cell_type": "markdown",
   "metadata": {},
   "source": [
    "# list example with particular index"
   ]
  },
  {
   "cell_type": "code",
   "execution_count": 15,
   "metadata": {},
   "outputs": [
    {
     "name": "stdout",
     "output_type": "stream",
     "text": [
      "1 2 3 4 5 6 7 \n",
      "5\n",
      "[4, 5, 6]\n"
     ]
    }
   ],
   "source": [
    "lst1=[1,2,3,4,5,6,7];\n",
    "for x in lst1:\n",
    "    print(x,end=\" \")\n",
    "print();\n",
    "print(lst1[4]);\n",
    "print(lst1[3:6]);"
   ]
  },
  {
   "cell_type": "code",
   "execution_count": 17,
   "metadata": {},
   "outputs": [
    {
     "name": "stdout",
     "output_type": "stream",
     "text": [
      "1 2 3 4 5 6 7 8 9 10 "
     ]
    }
   ],
   "source": [
    "lst1=[1,2,3,4,5,6,7,8,9,10];\n",
    "for x in lst1:\n",
    "    print(x,end=\" \");"
   ]
  },
  {
   "cell_type": "code",
   "execution_count": 24,
   "metadata": {},
   "outputs": [
    {
     "name": "stdout",
     "output_type": "stream",
     "text": [
      "1 2 3 4 5 6 7 8 9 10 \n",
      "[2, 3, 4, 5, 6, 7, 8, 9]\n",
      "[3, 4, 5, 6, 7, 8]\n",
      "[1, 3, 5, 7, 9]\n",
      "[1, 4, 7, 10]\n",
      "[10, 8, 6, 4, 2]\n",
      "9\n"
     ]
    }
   ],
   "source": [
    "lst1=[1,2,3,4,5,6,7,8,9,10];\n",
    "for x in lst1:\n",
    "    print(x,end=\" \" );\n",
    "print();\n",
    "print(lst1[1:-1]);\n",
    "print(lst1[2:-2]);\n",
    "print(lst1[::2]);\n",
    "print(lst1[::3]);\n",
    "print(lst1[::-2]);\n",
    "print(lst1[-2]);"
   ]
  },
  {
   "cell_type": "code",
   "execution_count": 27,
   "metadata": {},
   "outputs": [
    {
     "name": "stdout",
     "output_type": "stream",
     "text": [
      "['vasavi', 'kavya', 'shriya', 2]\n",
      "['vasavi', 'kavya', 15, 2]\n",
      "['vasavi', 'kavya', 15]\n",
      "['vasavi', 'gitam', 15]\n",
      "[1, 2, 3]\n",
      "['vasavi', 'gitam', 15, 1, 2, 3]\n"
     ]
    }
   ],
   "source": [
    "lst1=[\"vasavi\",\"kavya\",\"shriya\",2];\n",
    "print(lst1);\n",
    "lst1[2]=15;\n",
    "print(lst1);\n",
    "del lst1[3];\n",
    "print(lst1);\n",
    "lst1[1]=\"gitam\";\n",
    "print(lst1);\n",
    "lst2=[1,2,3];\n",
    "print(lst2);\n",
    "print(lst1+lst2);"
   ]
  },
  {
   "cell_type": "markdown",
   "metadata": {},
   "source": [
    "## list methods:\n",
    "\n",
    "### append(obj):\n",
    "#### the method appends a passed object into existing list\n",
    "\n",
    "### remove(obj):\n",
    "#### the method removes the passed object from the first occurence from the left side\n",
    "\n",
    "### reverse():\n",
    "#### the reverse() reverses object of the list\n"
   ]
  },
  {
   "cell_type": "code",
   "execution_count": 4,
   "metadata": {},
   "outputs": [
    {
     "name": "stdout",
     "output_type": "stream",
     "text": [
      "['gitam', 'python', 'raptor', 1, 5, 'python', 'python']\n",
      "7\n",
      "['gitam', 'python', 2019, 'raptor', 1, 5, 'python', 'python']\n",
      "8\n",
      "['gitam', 'python', 2019, 'raptor', 2020, 1, 5, 'python', 'python']\n",
      "['gitam', 2019, 'raptor', 2020, 1, 5, 'python', 'python']\n",
      "['python', 'python', 5, 1, 2020, 'raptor', 2019, 'gitam']\n"
     ]
    }
   ],
   "source": [
    "lst1=[\"gitam\",\"python\",\"raptor\",1,5,\"python\",\"python\"];\n",
    "print(lst1);\n",
    "lst1.index(\"python\")\n",
    "lst1.index(1)\n",
    "print(len(lst1))\n",
    "lst1.insert(2,2019);\n",
    "print(lst1);\n",
    "print(len(lst1));\n",
    "lst1.insert(4,2020);\n",
    "print(lst1);\n",
    "lst1.remove(\"python\")\n",
    "print(lst1)\n",
    "lst1.reverse()\n",
    "print(lst1)"
   ]
  },
  {
   "cell_type": "markdown",
   "metadata": {},
   "source": [
    "## list with range()function\n",
    "### range(number): 0 to number"
   ]
  },
  {
   "cell_type": "code",
   "execution_count": 1,
   "metadata": {},
   "outputs": [
    {
     "name": "stdout",
     "output_type": "stream",
     "text": [
      "!  !  !  !  !  !  !  !  !  !  !  !  !  !  !  "
     ]
    }
   ],
   "source": [
    "def linearexample(a,n):\n",
    "    for i in range(len(a)):\n",
    "        if a[i]==n:\n",
    "            j=0;\n",
    "            while j!=i+1:\n",
    "                print(\"!\",end =\" \");\n",
    "                j=j+1;\n",
    "                print(end =\" \");\n",
    "a=[1,5,9,6,5,15,12,5]\n",
    "linearexample(a,5);"
   ]
  },
  {
   "cell_type": "markdown",
   "metadata": {},
   "source": [
    "### liner search example 3\n",
    "#### input:list\n",
    "#### output:formatted output\n",
    "#### test case:[1,2,3,4,5]------1 3 8 1 5 5"
   ]
  },
  {
   "cell_type": "code",
   "execution_count": 11,
   "metadata": {},
   "outputs": [
    {
     "name": "stdout",
     "output_type": "stream",
     "text": [
      "1 3 8 15 5 "
     ]
    }
   ],
   "source": [
    "def linearformattedoutput(a):\n",
    "    for i in range(len(a)):\n",
    "        if i==0 or i==(len(a)-1):\n",
    "            print(a[i],end =\" \");\n",
    "        else:\n",
    "            print(a[i-1]*a[i+1],end=\" \");\n",
    "    \n",
    "a=[1,2,3,4,5];\n",
    "linearformattedoutput(a);\n",
    "    "
   ]
  },
  {
   "cell_type": "markdown",
   "metadata": {},
   "source": [
    "## linear search\n",
    "### input:list\n",
    "### output:formatted output\n",
    "### test case:[1,6,9,4,16,19,22]---1 9 19 22\n",
    "#### *first and last item to be same\n",
    "#### *for the middle items need to check both sides of the numbers is even or not,if it is even then print that item otherwise skip that item"
   ]
  },
  {
   "cell_type": "code",
   "execution_count": 15,
   "metadata": {},
   "outputs": [
    {
     "name": "stdout",
     "output_type": "stream",
     "text": [
      "1 9 19 22 "
     ]
    }
   ],
   "source": [
    "def linearformattedoutput(a):\n",
    "    for i in range(len(a)):\n",
    "        if i==0 or(i==len(a)-1):\n",
    "            print(a[i],end=\" \");\n",
    "        elif a[i-1]%2==0 and a[i+1]%2==0:\n",
    "            print(a[i],end=\" \");\n",
    "a=[1,6,9,4,16,19,22];\n",
    "linearformattedoutput(a);"
   ]
  },
  {
   "cell_type": "markdown",
   "metadata": {},
   "source": [
    "# example on linear search\n",
    "## input:a number\n",
    "## output:list\n",
    "## test case:14569--[1,4,5,6,9] and 1974--[1,9,7,4]\n",
    "### print the list in revese order"
   ]
  },
  {
   "cell_type": "code",
   "execution_count": 17,
   "metadata": {},
   "outputs": [
    {
     "name": "stdout",
     "output_type": "stream",
     "text": [
      "enter a number14569\n",
      "[1, 4, 5, 6, 9]\n"
     ]
    }
   ],
   "source": [
    "def numbertolistconverstion(n):\n",
    "    lst=[];\n",
    "    while n!=0:\n",
    "        r=n%10;\n",
    "        lst.append(r);\n",
    "        n=n//10;\n",
    "    lst.reverse();\n",
    "    print(lst);\n",
    "n=int(input(\"enter a number\"));\n",
    "numbertolistconverstion(n);"
   ]
  },
  {
   "cell_type": "markdown",
   "metadata": {},
   "source": [
    "## list to number conversion\n",
    "1. [1,4,5,6,9]--14569\n",
    "2. [1,4,5,6,9]--46(you have consider only even in the list)\n",
    "3. 14569--[4,6](you have consider only even digits to list)"
   ]
  },
  {
   "cell_type": "code",
   "execution_count": 32,
   "metadata": {},
   "outputs": [
    {
     "name": "stdout",
     "output_type": "stream",
     "text": [
      "1234\n"
     ]
    }
   ],
   "source": [
    "def listtonumberconversion(a):\n",
    "    n=0\n",
    "    for i in range (len(a)):\n",
    "        n=n*10+a[i]\n",
    "\n",
    "    \n",
    "        \n",
    "    print(n)\n",
    "lst=[1,2,3,4]       \n",
    "listtonumberconversion(lst);"
   ]
  },
  {
   "cell_type": "code",
   "execution_count": 35,
   "metadata": {},
   "outputs": [
    {
     "name": "stdout",
     "output_type": "stream",
     "text": [
      "4 6 "
     ]
    }
   ],
   "source": [
    "def evennumberinlist(n):\n",
    "\n",
    "    for i in n:\n",
    "        if(i%2==0):\n",
    "            print(i,end=\" \");\n",
    "n=[1,4,5,6,9]\n",
    "evennumberinlist(n)            \n",
    "    "
   ]
  },
  {
   "cell_type": "code",
   "execution_count": null,
   "metadata": {},
   "outputs": [
    {
     "name": "stdout",
     "output_type": "stream",
     "text": [
      "enter a number1234\n"
     ]
    }
   ],
   "source": [
    "def evenlistinnumber(n):\n",
    "    r=0\n",
    "    lst=[]\n",
    "    while (n!=0):\n",
    "        r=n%10;\n",
    "        if(r%2==0):\n",
    "            lst.append(r);\n",
    "            n=n//10;\n",
    "    lst.reverse();\n",
    "    print(lst)\n",
    "n=int(input(\"enter a number\"));\n",
    "evenlistinnumber(n);"
   ]
  },
  {
   "cell_type": "code",
   "execution_count": null,
   "metadata": {},
   "outputs": [],
   "source": []
  }
 ],
 "metadata": {
  "kernelspec": {
   "display_name": "Python 3",
   "language": "python",
   "name": "python3"
  },
  "language_info": {
   "codemirror_mode": {
    "name": "ipython",
    "version": 3
   },
   "file_extension": ".py",
   "mimetype": "text/x-python",
   "name": "python",
   "nbconvert_exporter": "python",
   "pygments_lexer": "ipython3",
   "version": "3.7.3"
  }
 },
 "nbformat": 4,
 "nbformat_minor": 2
}
